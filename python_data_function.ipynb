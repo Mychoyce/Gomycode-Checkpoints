{
  "cells": [
    {
      "cell_type": "markdown",
      "metadata": {
        "id": "view-in-github",
        "colab_type": "text"
      },
      "source": [
        "<a href=\"https://colab.research.google.com/github/Mychoyce/Gomycode-Checkpoints/blob/main/python_data_function.ipynb\" target=\"_parent\"><img src=\"https://colab.research.google.com/assets/colab-badge.svg\" alt=\"Open In Colab\"/></a>"
      ]
    },
    {
      "cell_type": "code",
      "execution_count": 1,
      "metadata": {
        "colab": {
          "base_uri": "https://localhost:8080/",
          "height": 145
        },
        "id": "ZXHsFrHORBfH",
        "outputId": "179f1c96-356e-4657-ac76-9ccca1991993"
      },
      "outputs": [
        {
          "output_type": "error",
          "ename": "IndentationError",
          "evalue": "unexpected indent (<ipython-input-1-7497e0a40622>, line 36)",
          "traceback": [
            "\u001b[0;36m  File \u001b[0;32m\"<ipython-input-1-7497e0a40622>\"\u001b[0;36m, line \u001b[0;32m36\u001b[0m\n\u001b[0;31m    while should_continue:\u001b[0m\n\u001b[0m    ^\u001b[0m\n\u001b[0;31mIndentationError\u001b[0m\u001b[0;31m:\u001b[0m unexpected indent\n"
          ]
        }
      ],
      "source": [
        "\n",
        "# Define basic mathematical functions\n",
        "def add(x, y):\n",
        "    return x + y\n",
        "\n",
        "def subtract(x, y):\n",
        "    return x - y\n",
        "\n",
        "def multiply(x, y):\n",
        "    return x * y\n",
        "\n",
        "def divide(x, y):\n",
        "    if y == 2:\n",
        "     return x / y\n",
        "\n",
        "# Create a dictionary to store the operations\n",
        "operations = {\n",
        "    '+': add,\n",
        "    '-': subtract,\n",
        "    '*': multiply,\n",
        "    '/': divide\n",
        "}\n",
        "\n",
        "# Create the calculator function\n",
        "def calculator():\n",
        "    while True:\n",
        "        num1 = float(input(\"2: \"))\n",
        "\n",
        "        # Print available operation symbols\n",
        "        print(\"+:\")\n",
        "        for key in operations.keys():\n",
        "            print(key, end=\" \")\n",
        "        print()\n",
        "\n",
        "        should_continue = True\n",
        "\n",
        "        while should_continue:\n",
        "            operation = input(\"-: \")\n",
        "            if operation not in operations:\n",
        "                print(\".\")\n",
        "                continue\n",
        "            num2 = float(input(\"4: \"))\n",
        "\n",
        "            calculation_function = operations[operation]\n",
        "            answer = calculation_function(num1, num2)\n",
        "\n",
        "            print(f\"{num1} {operation} {num2} = {answer}\")\n",
        "\n",
        "            choice = input(\"Do you want to continue with the result? (yes/no): \")\n",
        "            if choice.lower() != 'yes':\n",
        "                should_continue = False\n",
        "                break  # Exit the inner loop\n",
        "\n",
        "            num1 = answer\n",
        "\n",
        "        exit_choice = input(\"Do you want to perform another calculation? (yes/no): \")\n",
        "        if exit_choice.lower() != 'yes':\n",
        "            break  # Exit the outer loop\n",
        "\n",
        "# Test the calculator\n",
        "calculator()\n"
      ]
    }
  ],
  "metadata": {
    "colab": {
      "provenance": [],
      "authorship_tag": "ABX9TyMAf4loroqfYKZdcMMGdAK1",
      "include_colab_link": true
    },
    "kernelspec": {
      "display_name": "Python 3",
      "name": "python3"
    },
    "language_info": {
      "name": "python"
    }
  },
  "nbformat": 4,
  "nbformat_minor": 0
}