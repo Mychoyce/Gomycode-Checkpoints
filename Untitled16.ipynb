{
  "nbformat": 4,
  "nbformat_minor": 0,
  "metadata": {
    "colab": {
      "provenance": [],
      "authorship_tag": "ABX9TyMATRLeNPKj7h93Tubh22j5",
      "include_colab_link": true
    },
    "kernelspec": {
      "name": "python3",
      "display_name": "Python 3"
    },
    "language_info": {
      "name": "python"
    }
  },
  "cells": [
    {
      "cell_type": "markdown",
      "metadata": {
        "id": "view-in-github",
        "colab_type": "text"
      },
      "source": [
        "<a href=\"https://colab.research.google.com/github/Mychoyce/Gomycode-Checkpoints/blob/main/Untitled16.ipynb\" target=\"_parent\"><img src=\"https://colab.research.google.com/assets/colab-badge.svg\" alt=\"Open In Colab\"/></a>"
      ]
    },
    {
      "cell_type": "markdown",
      "source": [
        "What You're Aiming For\n",
        "\n",
        "It’s time to play: fix this resume\n",
        "\n",
        "In this checkpoint, we provide a resume containing the five issues, we mentioned in the previous Superskill\n",
        "\n",
        "\n",
        "\n",
        "\n",
        "Instructions\n",
        "\n",
        "Spot the 5 mistakes in the resume\n",
        "Provide examples of how to fix each one.\n",
        "Uploaded the corrected version of the CV"
      ],
      "metadata": {
        "id": "nEktGOaFxSeW"
      }
    },
    {
      "cell_type": "markdown",
      "source": [],
      "metadata": {
        "id": "PwCaDlG2xVcX"
      }
    },
    {
      "cell_type": "markdown",
      "source": [
        "(1)Grammar and Clarity:\n",
        "Original: \"Maintained so many customer satisfaction rating...\"\n",
        "Revised: \"Maintained high customer satisfaction ratings...\"\n",
        "(2)Vague Language and Lack of Specifics:\n",
        "Original: \"Boosted team efficiency by a high rate...\"\n",
        "Revised: \"Significantly improved team efficiency by providing clear direction for the development of business applications.\"\n",
        "(3)Inconsistent Tenses:\n",
        "Original: \"Hastened human resources processes by 80% by developing a cloud-based information system...\"\n",
        "Revised: \"Hastened human resources processes by 80% through the development of a cloud-based information system...\"\n",
        "(4)Incomplete Information:\n",
        "Original: \"Founder, DLU Coding Club\"\n",
        "Revised: \"Founder, DLU Coding Club (Year Founded)\"\n",
        "(5)Missing Details:\n",
        "Original: \"Champion, Beechtown Hackathon 2020\"\n",
        "Revised: \"Champion, Beechtown Hackathon 2020 (Description of project or achievement)\""
      ],
      "metadata": {
        "id": "Iwt1H1KW1UTK"
      }
    },
    {
      "cell_type": "markdown",
      "source": [
        "https://docs.google.com/document/d/1QoCs46irlUXi2PQPM5TkvQ2nwkByNOZ61LarRRAkh0c/edit?usp=sharing"
      ],
      "metadata": {
        "id": "-VuGECOnIkop"
      }
    }
  ]
}