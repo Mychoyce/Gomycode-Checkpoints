{
  "nbformat": 4,
  "nbformat_minor": 0,
  "metadata": {
    "colab": {
      "provenance": [],
      "authorship_tag": "ABX9TyPKdkdGz1xcQD4pUaYXzbR3",
      "include_colab_link": true
    },
    "kernelspec": {
      "name": "python3",
      "display_name": "Python 3"
    },
    "language_info": {
      "name": "python"
    }
  },
  "cells": [
    {
      "cell_type": "markdown",
      "metadata": {
        "id": "view-in-github",
        "colab_type": "text"
      },
      "source": [
        "<a href=\"https://colab.research.google.com/github/Mychoyce/Gomycode-Checkpoints/blob/main/Numpy.ipynb\" target=\"_parent\"><img src=\"https://colab.research.google.com/assets/colab-badge.svg\" alt=\"Open In Colab\"/></a>"
      ]
    },
    {
      "cell_type": "markdown",
      "source": [
        "Numpy Checkpoint\n",
        "\n",
        "What You're Aiming For\n",
        "\n",
        "Create a numpy array called \"grades\" that contains the following grades: [85, 90, 88, 92, 95, 80, 75, 98, 89, 83]\n",
        "\n",
        "Instructions\n",
        "\n",
        "Create a new file called \"grades_analysis.py\"\n",
        "Import the numpy library and create the \"grades\" array as specified above.\n",
        "> Use numpy functions to calculate the mean, median, and standard deviation of the grades.\n",
        "\n",
        "> Use numpy function to find the maximum and minimum of the grades.\n",
        "\n",
        "> Use numpy function to sort the grades in ascending order.\n",
        "Use numpy function to find the index of the highest grade in the array.\n",
        "Use numpy function to count the number of students who scored above 90.\n",
        "Use numpy function to calculate the percentage of students who scored above 90.\n",
        "Use numpy function to calculate the percentage of students who scored below 75.\n",
        "Use numpy function to extract all the grades above 90 and put them in a new array called \"high_performers\".\n",
        "Create a new array called \"passing_grades\" that contains all the grades above 75.\n",
        "Print the result of all the above steps.\n",
        "Note:\n",
        "\n",
        "to calculate percentage use numpy.mean(grades > 90) * 100\n",
        "to extract the grades above 90 use grades[grades > 90]\n",
        "to extract the grades above 75 use grades[grades > 75]\n",
        "You can use other numpy functions as well to analyze the data as you want. The above steps are just examples of what can be done."
      ],
      "metadata": {
        "id": "wdINWMbEcbzT"
      }
    },
    {
      "cell_type": "code",
      "source": [
        "# Import the numpy library\n",
        "import numpy as np\n",
        "\n",
        "# Create the \"grades\" array\n",
        "grades = np.array([85, 90, 88, 92, 95, 80, 75, 98, 89, 83])\n",
        "\n",
        "# Calculate the mean, median, and standard deviation of the grades\n",
        "mean_grade = np.mean(grades)\n",
        "median_grade = np.median(grades)\n",
        "std_deviation = np.std(grades)\n",
        "\n",
        "# Find the maximum and minimum of the grades\n",
        "max_grade = np.max(grades)\n",
        "min_grade = np.min(grades)\n",
        "\n",
        "# Sort the grades in ascending order\n",
        "sorted_grades = np.sort(grades)\n",
        "\n",
        "# Find the index of the highest grade in the array\n",
        "index_highest_grade = np.argmax(grades)\n",
        "\n",
        "# Count the number of students who scored above 90\n",
        "num_above_90 = np.sum(grades > 90)\n",
        "\n",
        "# Calculate the percentage of students who scored above 90\n",
        "percentage_above_90 = np.mean(grades > 90) * 100\n",
        "\n",
        "# Calculate the percentage of students who scored below 75\n",
        "percentage_below_75 = np.mean(grades < 75) * 100\n",
        "\n",
        "# Extract all the grades above 90 and put them in a new array called \"high_performers\"\n",
        "high_performers = grades[grades > 90]\n",
        "\n",
        "# Create a new array called \"passing_grades\" that contains all the grades above 75\n",
        "passing_grades = grades[grades > 75]\n",
        "\n",
        "# Print the results\n",
        "print(\"Mean grade:\", mean_grade)\n",
        "print(\"Median grade:\", median_grade)\n",
        "print(\"Standard deviation:\", std_deviation)\n",
        "print(\"Maximum grade:\", max_grade)\n",
        "print(\"Minimum grade:\", min_grade)\n",
        "print(\"Sorted grades:\", sorted_grades)\n",
        "print(\"Index of the highest grade:\", index_highest_grade)\n",
        "print(\"Number of students above 90:\", num_above_90)\n",
        "print(\"Percentage of students above 90:\", percentage_above_90)\n",
        "print(\"Percentage of students below 75:\", percentage_below_75)\n",
        "print(\"High performers:\", high_performers)\n",
        "print(\"Passing grades:\",passing_grades)"
      ],
      "metadata": {
        "colab": {
          "base_uri": "https://localhost:8080/"
        },
        "id": "oFKdY4PEWO4j",
        "outputId": "9825998e-4320-4863-cd8f-59fa0199139e"
      },
      "execution_count": 2,
      "outputs": [
        {
          "output_type": "stream",
          "name": "stdout",
          "text": [
            "Mean grade: 87.5\n",
            "Median grade: 88.5\n",
            "Standard deviation: 6.591661399070799\n",
            "Maximum grade: 98\n",
            "Minimum grade: 75\n",
            "Sorted grades: [75 80 83 85 88 89 90 92 95 98]\n",
            "Index of the highest grade: 7\n",
            "Number of students above 90: 3\n",
            "Percentage of students above 90: 30.0\n",
            "Percentage of students below 75: 0.0\n",
            "High performers: [92 95 98]\n",
            "Passing grades: [85 90 88 92 95 80 98 89 83]\n"
          ]
        }
      ]
    }
  ]
}