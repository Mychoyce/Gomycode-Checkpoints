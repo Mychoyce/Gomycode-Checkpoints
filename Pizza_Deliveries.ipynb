{
  "nbformat": 4,
  "nbformat_minor": 0,
  "metadata": {
    "colab": {
      "provenance": [],
      "authorship_tag": "ABX9TyOGShVqcM3A8g02rh19ZNub",
      "include_colab_link": true
    },
    "kernelspec": {
      "name": "python3",
      "display_name": "Python 3"
    },
    "language_info": {
      "name": "python"
    }
  },
  "cells": [
    {
      "cell_type": "markdown",
      "metadata": {
        "id": "view-in-github",
        "colab_type": "text"
      },
      "source": [
        "<a href=\"https://colab.research.google.com/github/Mychoyce/Gomycode-Checkpoints/blob/main/Pizza_Deliveries.ipynb\" target=\"_parent\"><img src=\"https://colab.research.google.com/assets/colab-badge.svg\" alt=\"Open In Colab\"/></a>"
      ]
    },
    {
      "cell_type": "code",
      "source": [
        "print('Welcome to Python Pizza Deliveries')"
      ],
      "metadata": {
        "colab": {
          "base_uri": "https://localhost:8080/"
        },
        "id": "LCdQW-QCYeFj",
        "outputId": "76c18396-41a4-44d1-8e8f-50daad543203"
      },
      "execution_count": 10,
      "outputs": [
        {
          "output_type": "stream",
          "name": "stdout",
          "text": [
            "Welcome to Python Pizza Deliveries\n"
          ]
        }
      ]
    },
    {
      "cell_type": "code",
      "source": [
        "size = (\"Small, Medium, Large\")\n",
        "input(\"What size pizza would you like?\")"
      ],
      "metadata": {
        "colab": {
          "base_uri": "https://localhost:8080/",
          "height": 52
        },
        "id": "KOZ91xQpkTAR",
        "outputId": "e006d914-32c3-4837-be43-a684757dac88"
      },
      "execution_count": 11,
      "outputs": [
        {
          "name": "stdout",
          "output_type": "stream",
          "text": [
            "What size pizza would you like?small\n"
          ]
        },
        {
          "output_type": "execute_result",
          "data": {
            "text/plain": [
              "'small'"
            ],
            "application/vnd.google.colaboratory.intrinsic+json": {
              "type": "string"
            }
          },
          "metadata": {},
          "execution_count": 11
        }
      ]
    },
    {
      "cell_type": "markdown",
      "source": [],
      "metadata": {
        "id": "_UolixPj4MoU"
      }
    },
    {
      "cell_type": "code",
      "source": [
        "add_pepperoni = (\"yes/no\")\n",
        "input(\"Do you want to add pepperoni?\")"
      ],
      "metadata": {
        "colab": {
          "base_uri": "https://localhost:8080/",
          "height": 52
        },
        "id": "mzxNtsYDk8PG",
        "outputId": "977af5da-9901-4046-a86d-0b0dec902cd8"
      },
      "execution_count": 12,
      "outputs": [
        {
          "name": "stdout",
          "output_type": "stream",
          "text": [
            "Do you want to add pepperoni?yes\n"
          ]
        },
        {
          "output_type": "execute_result",
          "data": {
            "text/plain": [
              "'yes'"
            ],
            "application/vnd.google.colaboratory.intrinsic+json": {
              "type": "string"
            }
          },
          "metadata": {},
          "execution_count": 12
        }
      ]
    },
    {
      "cell_type": "code",
      "source": [
        "extra_cheese = (\"yes/no\")\n",
        "input(\"Do you want extra cheese? \")"
      ],
      "metadata": {
        "colab": {
          "base_uri": "https://localhost:8080/",
          "height": 52
        },
        "id": "4i4hQRKclWey",
        "outputId": "e2e0aa90-4275-4f56-8a3a-9cd38036caa8"
      },
      "execution_count": 13,
      "outputs": [
        {
          "name": "stdout",
          "output_type": "stream",
          "text": [
            "Do you want extra cheese? yes\n"
          ]
        },
        {
          "output_type": "execute_result",
          "data": {
            "text/plain": [
              "'yes'"
            ],
            "application/vnd.google.colaboratory.intrinsic+json": {
              "type": "string"
            }
          },
          "metadata": {},
          "execution_count": 13
        }
      ]
    },
    {
      "cell_type": "code",
      "source": [
        "if size.lower() == \"small\":\n",
        "    bill += 15\n",
        "elif size.lower() == \"medium\":\n",
        "    bill += 20\n",
        "elif size.lower() == \"large\":\n",
        "    bill += 25\n",
        "else:\n",
        "    print(\"Invalid pizza size. Please choose Small, Medium, or Large.\")\n"
      ],
      "metadata": {
        "id": "7UaVHYfEmN7_"
      },
      "execution_count": null,
      "outputs": []
    },
    {
      "cell_type": "code",
      "source": [
        "if add_pepperoni.lower() == \"yes\":\n",
        "    if size.lower() == \"small\":\n",
        "        bill += 2\n",
        "    elif size.lower() in [\"medium\", \"large\"]:\n",
        "        bill += 3"
      ],
      "metadata": {
        "id": "oXHWEYFem60b"
      },
      "execution_count": 15,
      "outputs": []
    },
    {
      "cell_type": "code",
      "source": [
        "if extra_cheese.lower() == \"yes\":\n",
        "    bill += 1"
      ],
      "metadata": {
        "id": "4Jpm6LrsnIJ0"
      },
      "execution_count": 16,
      "outputs": []
    },
    {
      "cell_type": "code",
      "source": [
        "Large = 25\n",
        "add_pepperoni = 3\n",
        "Bill = (Large+add_pepperoni)\n",
        "print(Bill)\n"
      ],
      "metadata": {
        "colab": {
          "base_uri": "https://localhost:8080/"
        },
        "id": "wZ4leQUupSXg",
        "outputId": "7811c62f-ef50-46c2-a607-51e3f87e6573"
      },
      "execution_count": 17,
      "outputs": [
        {
          "output_type": "stream",
          "name": "stdout",
          "text": [
            "28\n"
          ]
        }
      ]
    },
    {
      "cell_type": "code",
      "source": [
        "print(f\"Your final bill is: ${28}\")"
      ],
      "metadata": {
        "colab": {
          "base_uri": "https://localhost:8080/"
        },
        "id": "AFDGdQxqn4qt",
        "outputId": "150108d3-66f2-4a19-967b-3cb810dff9a1"
      },
      "execution_count": 18,
      "outputs": [
        {
          "output_type": "stream",
          "name": "stdout",
          "text": [
            "Your final bill is: $28\n"
          ]
        }
      ]
    }
  ]
}