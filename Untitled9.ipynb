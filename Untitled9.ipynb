{
  "nbformat": 4,
  "nbformat_minor": 0,
  "metadata": {
    "colab": {
      "provenance": [],
      "authorship_tag": "ABX9TyM6GetgV4/C8S9a6Wu8w7ib",
      "include_colab_link": true
    },
    "kernelspec": {
      "name": "python3",
      "display_name": "Python 3"
    },
    "language_info": {
      "name": "python"
    }
  },
  "cells": [
    {
      "cell_type": "markdown",
      "metadata": {
        "id": "view-in-github",
        "colab_type": "text"
      },
      "source": [
        "<a href=\"https://colab.research.google.com/github/Mychoyce/Gomycode-Checkpoints/blob/main/Untitled9.ipynb\" target=\"_parent\"><img src=\"https://colab.research.google.com/assets/colab-badge.svg\" alt=\"Open In Colab\"/></a>"
      ]
    },
    {
      "cell_type": "code",
      "execution_count": null,
      "metadata": {
        "colab": {
          "base_uri": "https://localhost:8080/"
        },
        "id": "ZXHsFrHORBfH",
        "outputId": "6b02ebf3-ef55-4490-ddb4-941b8f687484"
      },
      "outputs": [
        {
          "name": "stdout",
          "output_type": "stream",
          "text": [
            "Enter the first number: 2\n",
            "Available operations:\n",
            "+ - * / \n",
            "Choose an operation: ADD\n",
            "Invalid operation! Please choose from the available operations.\n",
            "Choose an operation: +\n",
            "Enter the second number: 4\n",
            "2.0 + 4.0 = 6.0\n",
            "Do you want to continue with the result? (yes/no): YES\n",
            "Choose an operation: -\n",
            "Enter the second number: 4\n",
            "6.0 - 4.0 = 2.0\n",
            "Do you want to continue with the result? (yes/no): YES\n",
            "Choose an operation: *\n",
            "Enter the second number: 4\n",
            "2.0 * 4.0 = 8.0\n",
            "Do you want to continue with the result? (yes/no): YES\n",
            "Choose an operation: /\n",
            "Enter the second number: 4\n",
            "8.0 / 4.0 = 2.0\n",
            "Do you want to continue with the result? (yes/no): YES\n"
          ]
        }
      ],
      "source": [
        "\n",
        "# Define basic mathematical functions\n",
        "def add(x, y):\n",
        "    return x + y\n",
        "\n",
        "def subtract(x, y):\n",
        "    return x - y\n",
        "\n",
        "def multiply(x, y):\n",
        "    return x * y\n",
        "\n",
        "def divide(x, y):\n",
        "    if y == 0:\n",
        "        return \"Error! Division by zero is not allowed.\"\n",
        "    return x / y\n",
        "\n",
        "# Create a dictionary to store the operations\n",
        "operations = {\n",
        "    '+': add,\n",
        "    '-': subtract,\n",
        "    '*': multiply,\n",
        "    '/': divide\n",
        "}\n",
        "\n",
        "# Create the calculator function\n",
        "def calculator():\n",
        "    while True:\n",
        "        num1 = float(input(\"Enter the first number: \"))\n",
        "\n",
        "        # Print available operation symbols\n",
        "        print(\"Available operations:\")\n",
        "        for key in operations.keys():\n",
        "            print(key, end=\" \")\n",
        "        print()\n",
        "\n",
        "        should_continue = True\n",
        "        while should_continue:\n",
        "            operation = input(\"Choose an operation: \")\n",
        "            if operation not in operations:\n",
        "                print(\"Invalid operation! Please choose from the available operations.\")\n",
        "                continue\n",
        "            num2 = float(input(\"Enter the second number: \"))\n",
        "\n",
        "            calculation_function = operations[operation]\n",
        "            answer = calculation_function(num1, num2)\n",
        "\n",
        "            print(f\"{num1} {operation} {num2} = {answer}\")\n",
        "\n",
        "            choice = input(\"Do you want to continue with the result? (yes/no): \")\n",
        "            if choice.lower() != 'yes':\n",
        "                should_continue = False\n",
        "                break  # Exit the inner loop\n",
        "\n",
        "            num1 = answer\n",
        "\n",
        "        exit_choice = input(\"Do you want to perform another calculation? (yes/no): \")\n",
        "        if exit_choice.lower() != 'yes':\n",
        "            break  # Exit the outer loop\n",
        "\n",
        "# Test the calculator\n",
        "calculator()\n"
      ]
    }
  ]
}