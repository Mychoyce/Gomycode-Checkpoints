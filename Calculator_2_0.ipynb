{
  "nbformat": 4,
  "nbformat_minor": 0,
  "metadata": {
    "colab": {
      "provenance": [],
      "authorship_tag": "ABX9TyNBFuC++Ykd2t4SmT53yzCd",
      "include_colab_link": true
    },
    "kernelspec": {
      "name": "python3",
      "display_name": "Python 3"
    },
    "language_info": {
      "name": "python"
    }
  },
  "cells": [
    {
      "cell_type": "markdown",
      "metadata": {
        "id": "view-in-github",
        "colab_type": "text"
      },
      "source": [
        "<a href=\"https://colab.research.google.com/github/Mychoyce/Gomycode-Checkpoints/blob/main/Calculator_2_0.ipynb\" target=\"_parent\"><img src=\"https://colab.research.google.com/assets/colab-badge.svg\" alt=\"Open In Colab\"/></a>"
      ]
    },
    {
      "cell_type": "code",
      "execution_count": 3,
      "metadata": {
        "colab": {
          "base_uri": "https://localhost:8080/"
        },
        "id": "WnMPc77k0KFW",
        "outputId": "d723e796-4dd3-4929-9448-6564569d4e2d"
      },
      "outputs": [
        {
          "name": "stdout",
          "output_type": "stream",
          "text": [
            "Enter the first number: 6\n",
            "Enter the operation symbol (+, -, *, /, **, sqrt, log): -\n",
            "Enter the second number: 2\n",
            "Result: 4.0\n",
            "Do you want to continue? (yes/no): no\n"
          ]
        }
      ],
      "source": [
        "import math\n",
        "\n",
        "class Calculator:\n",
        "    def __init__(self):\n",
        "        self.operations = {'+': self.add, '-': self.subtract, '*': self.multiply, '/': self.divide}\n",
        "\n",
        "    def add_operation(self, symbol, func):\n",
        "        self.operations[symbol] = func\n",
        "\n",
        "    def calculate(self, num1, symbol, num2):\n",
        "        if not (isinstance(num1, (int, float)) and isinstance(num2, (int, float))):\n",
        "            raise ValueError(\"Both inputs must be numbers.\")\n",
        "\n",
        "        if symbol not in self.operations:\n",
        "            raise ValueError(\"Invalid operation symbol.\")\n",
        "\n",
        "        operation_func = self.operations[symbol]\n",
        "        result = operation_func(num1, num2)\n",
        "        return result\n",
        "\n",
        "    def add(self, a, b):\n",
        "        return a + b\n",
        "\n",
        "    def subtract(self, a, b):\n",
        "        return a - b\n",
        "\n",
        "    def multiply(self, a, b):\n",
        "        return a * b\n",
        "\n",
        "    def divide(self, a, b):\n",
        "        if b == 0:\n",
        "            raise ValueError(\"Cannot divide by zero.\")\n",
        "        return a / b\n",
        "\n",
        "# Additional functions for advanced mathematical operations\n",
        "def exponentiation(a, b):\n",
        "    return a ** b\n",
        "\n",
        "def square_root(a, _):\n",
        "    if a < 0:\n",
        "        raise ValueError(\"Cannot calculate square root of a negative number.\")\n",
        "    return math.sqrt(a)\n",
        "\n",
        "def logarithm(a, b):\n",
        "    if a <= 0 or b <= 0:\n",
        "        raise ValueError(\"Both arguments must be positive for logarithmic operation.\")\n",
        "    return math.log(a, b)\n",
        "\n",
        "# Main program\n",
        "calculator = Calculator()\n",
        "\n",
        "# Adding advanced mathematical operations to the calculator\n",
        "calculator.add_operation('**', exponentiation)\n",
        "calculator.add_operation('sqrt', square_root)\n",
        "calculator.add_operation('log', logarithm)\n",
        "\n",
        "while True:\n",
        "    try:\n",
        "        num1 = float(input(\"Enter the first number: \"))\n",
        "        symbol = input(\"Enter the operation symbol (+, -, *, /, **, sqrt, log): \")\n",
        "        num2 = float(input(\"Enter the second number: \"))\n",
        "\n",
        "        result = calculator.calculate(num1, symbol, num2)\n",
        "        print(f\"Result: {result}\")\n",
        "\n",
        "    except ValueError as e:\n",
        "        print(f\"Error: {e}\")\n",
        "\n",
        "    user_input = input(\"Do you want to continue? (yes/no): \").lower()\n",
        "    if user_input != 'yes':\n",
        "        break\n"
      ]
    }
  ]
}