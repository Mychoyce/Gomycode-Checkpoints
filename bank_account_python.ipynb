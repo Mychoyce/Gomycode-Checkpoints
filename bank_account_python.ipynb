{
  "nbformat": 4,
  "nbformat_minor": 0,
  "metadata": {
    "colab": {
      "provenance": [],
      "authorship_tag": "ABX9TyOhoON+usqM9+HMclXsHTe0",
      "include_colab_link": true
    },
    "kernelspec": {
      "name": "python3",
      "display_name": "Python 3"
    },
    "language_info": {
      "name": "python"
    }
  },
  "cells": [
    {
      "cell_type": "markdown",
      "metadata": {
        "id": "view-in-github",
        "colab_type": "text"
      },
      "source": [
        "<a href=\"https://colab.research.google.com/github/Mychoyce/Gomycode-Checkpoints/blob/main/bank_account_python.ipynb\" target=\"_parent\"><img src=\"https://colab.research.google.com/assets/colab-badge.svg\" alt=\"Open In Colab\"/></a>"
      ]
    },
    {
      "cell_type": "code",
      "execution_count": 2,
      "metadata": {
        "colab": {
          "base_uri": "https://localhost:8080/"
        },
        "id": "XofoiQJ0VHCt",
        "outputId": "7d506d50-2ed6-4291-f01c-db62a3d0b6b5"
      },
      "outputs": [
        {
          "output_type": "stream",
          "name": "stdout",
          "text": [
            "1300.0\n"
          ]
        }
      ],
      "source": [
        "# bank_account.py\n",
        "\n",
        "class Account:\n",
        "    def __init__(self, account_number, account_balance, account_holder):\n",
        "        self.account_number = account_number\n",
        "        self.account_balance = account_balance\n",
        "        self.account_holder = account_holder\n",
        "\n",
        "    def deposit(self, amount):\n",
        "        self.account_balance += amount\n",
        "\n",
        "    def withdraw(self, amount):\n",
        "        if self.account_balance >= amount:\n",
        "            self.account_balance -= amount\n",
        "        else:\n",
        "            print(\"Insufficient funds\")\n",
        "\n",
        "    def check_balance(self):\n",
        "        return self.account_balance\n",
        "\n",
        "# Create an instance of the Account class\n",
        "my_account = Account(\"12345\", 1000.00, \"John Doe\")\n",
        "\n",
        "# Deposit and withdraw money from the account\n",
        "my_account.deposit(500.00)\n",
        "my_account.withdraw(200.00)\n",
        "\n",
        "# Check the account balance\n",
        "print(my_account.check_balance())\n"
      ]
    },
    {
      "cell_type": "code",
      "source": [
        "# Create multiple instances of the Account class\n",
        "account1 = Account(\"11111\", 1500.00, \"Alice\")\n",
        "account2 = Account(\"22222\", 2000.00, \"Bob\")\n",
        "\n",
        "# Perform transactions on the accounts\n",
        "account1.deposit(300.00)\n",
        "account2.withdraw(500.00)\n",
        "\n",
        "# Check the account balances\n",
        "print(\"Account 1 balance:\", account1.check_balance())\n",
        "print(\"Account 2 balance:\", account2.check_balance())\n"
      ],
      "metadata": {
        "colab": {
          "base_uri": "https://localhost:8080/"
        },
        "id": "BehGzcGgZqNN",
        "outputId": "41d47618-fc65-4733-855a-c4ded02586b8"
      },
      "execution_count": 3,
      "outputs": [
        {
          "output_type": "stream",
          "name": "stdout",
          "text": [
            "Account 1 balance: 1800.0\n",
            "Account 2 balance: 1500.0\n"
          ]
        }
      ]
    }
  ]
}