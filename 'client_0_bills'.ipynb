{
  "nbformat": 4,
  "nbformat_minor": 0,
  "metadata": {
    "colab": {
      "provenance": [],
      "authorship_tag": "ABX9TyNTenRghTU8wB9Q/A/JMecH",
      "include_colab_link": true
    },
    "kernelspec": {
      "name": "python3",
      "display_name": "Python 3"
    },
    "language_info": {
      "name": "python"
    }
  },
  "cells": [
    {
      "cell_type": "markdown",
      "metadata": {
        "id": "view-in-github",
        "colab_type": "text"
      },
      "source": [
        "<a href=\"https://colab.research.google.com/github/Mychoyce/Gomycode-Checkpoints/blob/main/'client_0_bills'.ipynb\" target=\"_parent\"><img src=\"https://colab.research.google.com/assets/colab-badge.svg\" alt=\"Open In Colab\"/></a>"
      ]
    },
    {
      "cell_type": "code",
      "execution_count": null,
      "metadata": {
        "id": "VVv28lGxa_HS"
      },
      "outputs": [],
      "source": []
    },
    {
      "cell_type": "markdown",
      "source": [
        "What You're Aiming For\n",
        "\n",
        "In this checkpoint, we are going to work on the billing history of the Tunisian electricity and gas company and apply what you learned in pre-processing chapter.\n",
        "\n",
        "Dataset description :\n",
        "\n",
        "The provided dataset contains the billing history of the Tunisian electricity and gas company's customers from 2005 to 2019.\n",
        "➡️ Dataset link\n",
        "https://i.imgur.com/AaBqRR5.png\n",
        "Instructions\n",
        "Load the dataset, display the ten first lines, store the results in a variable called 'client_0_bills'.\n",
        "What is the data type of the 'client_0_bills' variable ?\n",
        "Display the general information of the dataset and try to answer the following questions :\n",
        "How many rows and columns do we have in this dataset ?\n",
        "How many categorical features are present in the dataset ?\n",
        "How much memory space does the dataset consume ?\n",
        "Inspect the dataset for potential missing values.\n",
        "Select your strategy to handle missing values, and tell us why you had made that choice.\n",
        "Run a descriptive analysis on numeric features (columns).\n",
        "Select the bills records for the client with an id ='train_Client_0', using 2 methods.\n",
        "Transform the 'counter_type' feature to a numeric variable using the encoder of your choice.\n",
        "Delete the 'counter_statue' feature from the Dataframe\n",
        "How We'll Evaluate\n",
        "Your checkpoint will be evaluated based on these criteria, each rated from 0 to 5.\n",
        "What We're Looking For\n",
        "Successfully import the dataset using Pandas.\n",
        "Use appropriate methods to identify missing data\n",
        "Successfully transform categorical data into a numerical representation\n",
        "Successfully apply filters on selection\n",
        "Successfully delete columns"
      ],
      "metadata": {
        "id": "SywwS_S9bLhS"
      }
    },
    {
      "cell_type": "code",
      "source": [
        "# Import necessary libraries\n",
        "import pandas as pd\n",
        "\n",
        "# Load the dataset and display the first ten lines\n",
        "url = \"https://i.imgur.com/AaBqRR5.png\"\n",
        "client_data = pd.read_csv(url),\n",
        "client_0_bills = client_data.head(10)\n",
        "\n",
        "# Check the data type of 'client_0_bills' variable\n",
        "print(\"Data type of 'client_0_bills':\", type(client_0_bills))\n",
        "\n",
        "# Display general information about the dataset\n",
        "client_data_info = client_data.info()\n",
        "\n",
        "# Number of rows and columns in the dataset\n",
        "num_rows, num_columns = client_data.shape\n",
        "print(\"Number of rows:\", num_rows)\n",
        "print(\"Number of columns:\", num_columns)\n",
        "\n",
        "# Number of categorical features\n",
        "num_categorical_features = len(client_data.select_dtypes(include=['object']).columns)\n",
        "print(\"Number of categorical features:\", num_categorical_features)\n",
        "\n",
        "# Memory space consumption of the dataset\n",
        "memory_consumption = client_data.memory_usage(deep=True).sum()\n",
        "print(\"Memory space consumed by the dataset:\", memory_consumption, \"bytes\")\n",
        "\n",
        "# Check for missing values\n",
        "missing_values = client_data.isnull().sum()\n",
        "print(\"Missing values in the dataset:\")\n",
        "print(missing_values)\n",
        "\n",
        "# Strategy to handle missing values: Let's assume that missing values in numeric columns can be imputed with the mean,\n",
        "# and for categorical columns, we can use the mode. Drop any remaining missing values.\n",
        "client_data.fillna(client_data.mean(), inplace=True)\n",
        "client_data.dropna(inplace=True)\n",
        "\n",
        "# Descriptive analysis on numeric features\n",
        "numeric_features_description = client_data.describe()\n",
        "\n",
        "# Select bills records for 'train_Client_0' using two methods\n",
        "client_0_method1 = client_data[client_data['client_id'] == 'train_Client_0']\n",
        "client_0_method2 = client_data.loc[client_data['client_id'] == 'train_Client_0']\n",
        "\n",
        "# Transform 'counter_type' feature to a numeric variable using Label Encoding\n",
        "from sklearn.preprocessing import LabelEncoder\n",
        "label_encoder = LabelEncoder()\n",
        "client_data['counter_type_encoded'] = label_encoder.fit_transform(client_data['counter_type'])\n",
        "\n",
        "# Delete 'counter_statue' feature from the DataFrame\n",
        "client_data.drop('counter_statue', axis=1, inplace=True)"
      ],
      "metadata": {
        "id": "hmU0aPyRdcn-"
      },
      "execution_count": null,
      "outputs": []
    }
  ]
}