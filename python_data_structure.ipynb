{
  "nbformat": 4,
  "nbformat_minor": 0,
  "metadata": {
    "colab": {
      "provenance": [],
      "authorship_tag": "ABX9TyP9/L0qdP0DmFndgXSyqmJt",
      "include_colab_link": true
    },
    "kernelspec": {
      "name": "python3",
      "display_name": "Python 3"
    },
    "language_info": {
      "name": "python"
    }
  },
  "cells": [
    {
      "cell_type": "markdown",
      "metadata": {
        "id": "view-in-github",
        "colab_type": "text"
      },
      "source": [
        "<a href=\"https://colab.research.google.com/github/Mychoyce/Gomycode-Checkpoints/blob/main/python_data_structure.ipynb\" target=\"_parent\"><img src=\"https://colab.research.google.com/assets/colab-badge.svg\" alt=\"Open In Colab\"/></a>"
      ]
    },
    {
      "cell_type": "code",
      "source": [
        "shopping_list = []\n",
        "\n",
        "while True:\n",
        "    print(\"menu:\")\n",
        "    print(\"1. add item\")\n",
        "    print(\"2. remove item\")\n",
        "    print(\"3. view items\")\n",
        "    print(\"4. exit\")\n",
        "\n",
        "    choice = input(\"enter your choice:\")\n",
        "\n",
        "    if choice == \"1\":\n",
        "        if len(shopping_list) < 5:\n",
        "            item = input(\"enter the item to add:\")\n",
        "            shopping_list.append(item)\n",
        "        else:\n",
        "            print(\"you have reached the maximum limit for items.\")\n",
        "\n",
        "    elif choice == \"2\":\n",
        "        item = input(\"enter the item to remove:\")\n",
        "        if item in shopping_list:\n",
        "            shopping_list.remove(item)\n",
        "        else:\n",
        "            print(\"item not found in the list.\")\n",
        "\n",
        "    elif choice == \"3\":\n",
        "        print(\"shopping list:\")\n",
        "        for item in shopping_list:\n",
        "            print(item)\n",
        "\n",
        "    elif choice == \"4\":\n",
        "        # if the user selects 'exit', break the while loop to end the program\n",
        "        break\n",
        "\n",
        "    else:\n",
        "        print(\"invalid choice. please try again\")\n"
      ],
      "metadata": {
        "id": "DyfFwMi_cOrx",
        "colab": {
          "base_uri": "https://localhost:8080/"
        },
        "outputId": "bef71506-45f0-445d-8941-7f9f399c1884"
      },
      "execution_count": 6,
      "outputs": [
        {
          "name": "stdout",
          "output_type": "stream",
          "text": [
            "menu:\n",
            "1. add item\n",
            "2. remove item\n",
            "3. view items\n",
            "4. exit\n",
            "enter your choice:1\n",
            "enter the item to add:Banana\n",
            "menu:\n",
            "1. add item\n",
            "2. remove item\n",
            "3. view items\n",
            "4. exit\n",
            "enter your choice:1\n",
            "enter the item to add:Apple\n",
            "menu:\n",
            "1. add item\n",
            "2. remove item\n",
            "3. view items\n",
            "4. exit\n",
            "enter your choice:2\n",
            "enter the item to remove:Apple\n",
            "menu:\n",
            "1. add item\n",
            "2. remove item\n",
            "3. view items\n",
            "4. exit\n",
            "enter your choice:3\n",
            "shopping list:\n",
            "Banana\n",
            "menu:\n",
            "1. add item\n",
            "2. remove item\n",
            "3. view items\n",
            "4. exit\n",
            "enter your choice:4\n"
          ]
        }
      ]
    }
  ]
}