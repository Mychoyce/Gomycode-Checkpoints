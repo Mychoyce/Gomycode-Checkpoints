{
  "nbformat": 4,
  "nbformat_minor": 0,
  "metadata": {
    "colab": {
      "provenance": [],
      "authorship_tag": "ABX9TyNFX8mv0KS1+oXTVe3H5RNu",
      "include_colab_link": true
    },
    "kernelspec": {
      "name": "python3",
      "display_name": "Python 3"
    },
    "language_info": {
      "name": "python"
    }
  },
  "cells": [
    {
      "cell_type": "markdown",
      "metadata": {
        "id": "view-in-github",
        "colab_type": "text"
      },
      "source": [
        "<a href=\"https://colab.research.google.com/github/Mychoyce/Gomycode-Checkpoints/blob/main/supervised_learning_classification.ipynb\" target=\"_parent\"><img src=\"https://colab.research.google.com/assets/colab-badge.svg\" alt=\"Open In Colab\"/></a>"
      ]
    },
    {
      "cell_type": "markdown",
      "source": [
        "In this checkpoint, we are going to work on the 'Systemic Crisis, Banking Crisis, inflation Crisis In Africa' dataset that was provided by Kaggle.\n",
        "\n",
        "Dataset description : This dataset focuses on the Banking, Debt, Financial, Inflation and Systemic Crises that occurred, from 1860 to 2014, in 13 African countries, including: Algeria, Angola, Central African Republic, Ivory Coast, Egypt, Kenya, Mauritius, Morocco, Nigeria, South Africa, Tunisia, Zambia and Zimbabwe. The ML model objective is to predict the likelihood of a Systemic crisis emergence given a set of indicators like the annual inflation rates.\n",
        "\n",
        " ➡️ Dataset link\n",
        "\n",
        "https://i.imgur.com/3XzFz3x.jpg\n",
        "\n",
        "\n",
        "Instructions\n",
        "\n",
        "Import you data and perform basic data exploration phase\n",
        "Display general information about the dataset\n",
        "Create a pandas profiling reports to gain insights into the dataset\n",
        "Handle Missing and corrupted values\n",
        "Remove duplicates, if they exist\n",
        "Handle outliers, if they exist\n",
        "Encode categorical features\n",
        "Select your target variable and the features\n",
        "Split your dataset to training and test sets\n",
        "Based on your data exploration phase select a ML classification algorithm and train it on the training set\n",
        "Assess your model performance on the test set using relevant evaluation metrics\n",
        "Discuss with your cohort alternative ways to improve your model performance.\n",
        "\n"
      ],
      "metadata": {
        "id": "3SV1FdBpnvF2"
      }
    },
    {
      "cell_type": "code",
      "source": [
        "# Import necessary libraries\n",
        "import pandas as pd\n",
        "from sklearn.model_selection import train_test_split\n",
        "from sklearn.preprocessing import LabelEncoder\n",
        "from sklearn.ensemble import RandomForestClassifier\n",
        "from sklearn.metrics import accuracy_score, classification_report, confusion_matrix\n"
      ],
      "metadata": {
        "id": "-Px-bSnPoFx9"
      },
      "execution_count": null,
      "outputs": []
    },
    {
      "cell_type": "code",
      "source": [
        "!pip install pandas_profiling"
      ],
      "metadata": {
        "id": "6r-hT26sqLH8"
      },
      "execution_count": null,
      "outputs": []
    },
    {
      "cell_type": "code",
      "source": [
        "## Step 1: Import data and perform basic data exploration\n",
        "import pandas as pd\n",
        "df = pd.read_csv('/content/African_crises_dataset.csv')\n",
        "df"
      ],
      "metadata": {
        "id": "XjfnqQFecNme"
      },
      "execution_count": null,
      "outputs": []
    },
    {
      "cell_type": "code",
      "source": [
        "## step 2: data exploration\n",
        "df.info()"
      ],
      "metadata": {
        "id": "NdoFTM0Xieue"
      },
      "execution_count": null,
      "outputs": []
    },
    {
      "cell_type": "code",
      "source": [
        "#Import the pandas_profiling module:\n",
        "!pip install pandas_profiling\n",
        "df = pd.read_csv ('/content/African_crises_dataset.csv')\n"
      ],
      "metadata": {
        "id": "bgVfFaR9i5xB"
      },
      "execution_count": null,
      "outputs": []
    },
    {
      "cell_type": "code",
      "source": [
        "# Step 4: Handle missing and corrupted values\n",
        "df.dropna(inplace=True)\n",
        "print (df)"
      ],
      "metadata": {
        "id": "grZ6LhTClr-m"
      },
      "execution_count": null,
      "outputs": []
    },
    {
      "cell_type": "code",
      "source": [
        "# Step 5: Remove duplicates, if they exist\n",
        "df.drop_duplicates(inplace=True)\n",
        "print (df)"
      ],
      "metadata": {
        "id": "cjKeu3-wmFHl"
      },
      "execution_count": null,
      "outputs": []
    },
    {
      "cell_type": "code",
      "source": [
        "# Step 6: Handle outliers\n",
        "# Implement outlier detection and removal techniques"
      ],
      "metadata": {
        "id": "OGREl8i1mpwj"
      },
      "execution_count": null,
      "outputs": []
    },
    {
      "cell_type": "code",
      "source": [
        "df.dropna(axis= 0,how='any')"
      ],
      "metadata": {
        "id": "cr5_MkBuchun"
      },
      "execution_count": null,
      "outputs": []
    },
    {
      "cell_type": "code",
      "source": [
        "from scipy import stats\n",
        "import numpy as np\n",
        "df2 = df[(np.abs(stats.zscore(df['inflation_crises']))< 3)]# removing outliers"
      ],
      "metadata": {
        "id": "m5n7NhSPc9zt"
      },
      "execution_count": null,
      "outputs": []
    },
    {
      "cell_type": "code",
      "source": [
        "from sklearn.preprocessing import LabelEncoder\n",
        "label_encoder = LabelEncoder()"
      ],
      "metadata": {
        "id": "TA9oqQFrelpU"
      },
      "execution_count": null,
      "outputs": []
    },
    {
      "cell_type": "code",
      "source": [
        "from scipy.stats import zscore\n",
        "(np.abs(stats.zscore(df['systemic_crisis'])))"
      ],
      "metadata": {
        "id": "XyWgg5xVfRD0"
      },
      "execution_count": null,
      "outputs": []
    },
    {
      "cell_type": "code",
      "source": [
        "df2['banking_crisis']= label_encoder.fit_transform(df2['banking_crisis'])"
      ],
      "metadata": {
        "id": "CKd17LNhhJP6"
      },
      "execution_count": null,
      "outputs": []
    },
    {
      "cell_type": "code",
      "source": [
        "df2\n"
      ],
      "metadata": {
        "id": "GZp2GuDPhmfI"
      },
      "execution_count": null,
      "outputs": []
    },
    {
      "cell_type": "code",
      "source": [
        "target_variable = ['systemic_crisis']\n",
        "features_variable = ['banking_crisis', 'inflation_crises']"
      ],
      "metadata": {
        "id": "YrSBF3U2jLFL"
      },
      "execution_count": 23,
      "outputs": []
    },
    {
      "cell_type": "code",
      "source": [
        "from sklearn.model_selection import train_test_split\n",
        "from sklearn.linear_model import LogisticRegression\n",
        "from sklearn import metrics"
      ],
      "metadata": {
        "id": "v8pww9PABoXf"
      },
      "execution_count": 28,
      "outputs": []
    },
    {
      "cell_type": "code",
      "source": [
        "# x = df2[features_variabl]\n",
        "# y = df2[target_variable]"
      ],
      "metadata": {
        "id": "or3Lu9ifB98W"
      },
      "execution_count": 31,
      "outputs": []
    },
    {
      "cell_type": "code",
      "source": [
        "#Select target variable and features\n",
        "X = df.drop('systemic_crisis', axis=1)  # Features\n",
        "y = df['systemic_crisis']  # Targetvariable\n",
        "from sklearn.model_selection import train_test_split\n",
        "\n",
        "X_train, X_test, y_train, y_test = train_test_split(X, y, test_size=0.25)\n"
      ],
      "metadata": {
        "id": "FHGEWwjoL2-2"
      },
      "execution_count": 62,
      "outputs": []
    },
    {
      "cell_type": "code",
      "source": [
        "#Split dataset into training and test sets\n",
        "X_train, X_test, y_train, y_test = train_test_split(X, y, test_size=0.25, random_state=0)\n",
        "\n"
      ],
      "metadata": {
        "id": "nyED39NvMQCp"
      },
      "execution_count": 63,
      "outputs": []
    },
    {
      "cell_type": "code",
      "source": [
        "X_test"
      ],
      "metadata": {
        "id": "HmDBjKO1cGe2"
      },
      "execution_count": null,
      "outputs": []
    },
    {
      "cell_type": "code",
      "source": [
        "X_train\n"
      ],
      "metadata": {
        "id": "thRCePyTcRKK"
      },
      "execution_count": null,
      "outputs": []
    },
    {
      "cell_type": "code",
      "source": [
        "y_train"
      ],
      "metadata": {
        "id": "wPCmoU1AcXs0"
      },
      "execution_count": null,
      "outputs": []
    },
    {
      "cell_type": "code",
      "source": [
        "y_test"
      ],
      "metadata": {
        "id": "uVYckCd2cdvj"
      },
      "execution_count": null,
      "outputs": []
    },
    {
      "cell_type": "code",
      "source": [
        "#Select ML classification algorithm and train it on the training set\n",
        "classifier = RandomForestClassifier(random_state=0)\n",
        "classifier.fit(X_train, y_train )"
      ],
      "metadata": {
        "id": "XRFOGDuJczj0"
      },
      "execution_count": null,
      "outputs": []
    },
    {
      "cell_type": "code",
      "source": [
        "# Assess model performance on the test set using relevant evaluation metrics\n",
        "y_pred = classifier.predict(X_train)\n",
        "# Calculate evaluation metrics\n",
        "# For example, you can calculate accuracy, precision, recall, and F1-score\n",
        "from sklearn.metrics import accuracy_score, precision_score, recall_score, f1_score\n",
        "accuracy = accuracy_score(y_test, y_pred)\n",
        "precision = precision_score(y_test, y_pred)\n",
        "recall = recall_score(y_test, y_pred)\n",
        "f1 = f1_score(y_test, y_pred)"
      ],
      "metadata": {
        "id": "Z_D-N8mEgaNk"
      },
      "execution_count": null,
      "outputs": []
    },
    {
      "cell_type": "code",
      "source": [
        "x= df2[features_variable]\n",
        "y= df2[target_variable]\n",
        "\n",
        "#splitting data with test size of 25%\n",
        "x_train,x_test,y_train,y_test = train_test_split(x,y,test_size=0.25,random_state=0)\n",
        "\n",
        "logreg = LogisticRegression()   #build our logistic model\n",
        "logreg.fit(x_train, y_train)  #fitting training data\n",
        "y_pred = logreg.predict(x_test)    #testing model’s performance\n",
        "print(\"Accuracy={:.2f}\".format(logreg.score(x_test, y_test)))"
      ],
      "metadata": {
        "id": "J8qXuME4fXk1"
      },
      "execution_count": null,
      "outputs": []
    },
    {
      "cell_type": "code",
      "source": [
        "from sklearn.metrics import confusion_matrix\n",
        "import seaborn as sns\n",
        "import matplotlib.pyplot as plt\n",
        "\n",
        "# Assuming y_test and y_pred are your actual and predicted values\n",
        "cm = confusion_matrix(y_test, y_pred)\n",
        "\n",
        "# Create a DataFrame for the confusion matrix\n",
        "conf_matrix = pd.DataFrame(cm, columns=['Predicted:0', 'Predicted:1'], index=['Actual:0', 'Actual:1'])\n",
        "\n",
        "# Plotting the heatmap\n",
        "plt.figure(figsize=(8, 5))\n",
        "sns.heatmap(conf_matrix, annot=True, fmt='d', cmap=\"YlGnBu\")\n",
        "plt.show()"
      ],
      "metadata": {
        "colab": {
          "base_uri": "https://localhost:8080/",
          "height": 445
        },
        "id": "RvYOx27af1dP",
        "outputId": "ea4e0a45-06d0-472a-80ba-29d5832e8d93"
      },
      "execution_count": 73,
      "outputs": [
        {
          "output_type": "display_data",
          "data": {
            "text/plain": [
              "<Figure size 800x500 with 2 Axes>"
            ],
            "image/png": "[encoded data removed]"
          },
          "metadata": {}
        }
      ]
    }
  ]
}