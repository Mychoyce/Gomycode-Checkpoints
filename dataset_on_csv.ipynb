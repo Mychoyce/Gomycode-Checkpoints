{
  "nbformat": 4,
  "nbformat_minor": 0,
  "metadata": {
    "colab": {
      "provenance": [],
      "authorship_tag": "ABX9TyOwbBvH1lBX2bOyldunxhfS",
      "include_colab_link": true
    },
    "kernelspec": {
      "name": "python3",
      "display_name": "Python 3"
    },
    "language_info": {
      "name": "python"
    }
  },
  "cells": [
    {
      "cell_type": "markdown",
      "metadata": {
        "id": "view-in-github",
        "colab_type": "text"
      },
      "source": [
        "<a href=\"https://colab.research.google.com/github/Mychoyce/Gomycode-Checkpoints/blob/main/dataset_on_csv.ipynb\" target=\"_parent\"><img src=\"https://colab.research.google.com/assets/colab-badge.svg\" alt=\"Open In Colab\"/></a>"
      ]
    },
    {
      "cell_type": "code",
      "execution_count": null,
      "metadata": {
        "id": "sAyfk9y6oEwP"
      },
      "outputs": [],
      "source": []
    },
    {
      "cell_type": "markdown",
      "source": [
        "This dataset contains loan information, including loan ID, customer gender, location, region, total price for each loan etc.\n",
        "\n",
        "\n",
        "Instructions\n",
        "\n",
        "\n",
        "\n",
        "Begin by importing the necessary libraries, numpy.\n",
        "Use the open() function to open csv file and assign the result to a variable.\n",
        "Use the numpy array to perform some basic statistical analysis on the data, such as finding the mean, median, and standard deviation of the loan amounts.\n",
        "Note:\n",
        "\n",
        "Be sure to close the file after you have finished reading it in with the open() function.\n",
        "Use the delimiter parameter in the genfromtxt() function to specify that the values in the file are separated by commas.\n",
        "You can use the numpy functions mean(), median(), and std() to find the mean, median, and standard deviation of the loan amounts."
      ],
      "metadata": {
        "id": "UFHTjno1oSXS"
      }
    },
    {
      "cell_type": "code",
      "source": [
        "import numpy as np\n",
        "\n",
        "# Specify the path to your CSV file\n",
        "file_path = '/content/Loan_prediction_dataset.csv'\n",
        "\n",
        "# Open the CSV file\n",
        "file = open(file_path, 'r')\n",
        "\n",
        "# Use numpy.genfromtxt() to read the CSV file and load the data into a numpy array\n",
        "Loan_data = np.genfromtxt(file, delimiter=',', skip_header=1)  # skip_header is used to skip the header row if it exists\n",
        "\n",
        "#removing Nan\n",
        "Loan_data = Loan_data[~np.isnan(Loan_data)]\n",
        "\n",
        "# Perform basic statistical analysis on the loan amounts\n",
        "mean_loan_amount = np.mean(Loan_data)\n",
        "median_loan_amount = np.median(Loan_data)\n",
        "std_deviation_loan_amount = np.std(Loan_data)\n",
        "\n",
        "# Close the file after reading\n",
        "file.close()\n"
      ],
      "metadata": {
        "id": "vf6RmsqvocgB"
      },
      "execution_count": 1,
      "outputs": []
    },
    {
      "cell_type": "code",
      "source": [
        "Loan_data"
      ],
      "metadata": {
        "colab": {
          "base_uri": "https://localhost:8080/"
        },
        "id": "kvlTMBWEuSe1",
        "outputId": "654633f7-b1ea-4080-b866-e84ff30115ae"
      },
      "execution_count": 2,
      "outputs": [
        {
          "output_type": "execute_result",
          "data": {
            "text/plain": [
              "array([   0., 5849.,    0., ...,  133.,  360.,    0.])"
            ]
          },
          "metadata": {},
          "execution_count": 2
        }
      ]
    },
    {
      "cell_type": "code",
      "source": [
        "print(\"the mean of the dataset is\",mean_loan_amount)\n",
        "print(\"the median of the dataset is\", median_loan_amount)\n",
        "print(\"the standard deviation of the dataset is\",std_deviation_loan_amount)"
      ],
      "metadata": {
        "colab": {
          "base_uri": "https://localhost:8080/"
        },
        "id": "rCc4aVqztv4j",
        "outputId": "740d4f5e-e2cc-49f4-dbe0-ca4411692ebb"
      },
      "execution_count": 4,
      "outputs": [
        {
          "output_type": "stream",
          "name": "stdout",
          "text": [
            "the mean of the dataset is 1304.027157414677\n",
            "the median of the dataset is 140.0\n",
            "the standard deviation of the dataset is 3438.142180663127\n"
          ]
        }
      ]
    },
    {
      "cell_type": "code",
      "source": [],
      "metadata": {
        "id": "hm54oEJ5dM3a"
      },
      "execution_count": null,
      "outputs": []
    }
  ]
}