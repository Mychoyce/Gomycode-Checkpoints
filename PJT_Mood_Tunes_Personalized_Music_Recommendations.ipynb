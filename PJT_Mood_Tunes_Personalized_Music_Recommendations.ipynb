{
  "nbformat": 4,
  "nbformat_minor": 0,
  "metadata": {
    "colab": {
      "provenance": [],
      "authorship_tag": "ABX9TyMqFgKvRD6GXrtmNBGmIw7X",
      "include_colab_link": true
    },
    "kernelspec": {
      "name": "python3",
      "display_name": "Python 3"
    },
    "language_info": {
      "name": "python"
    }
  },
  "cells": [
    {
      "cell_type": "markdown",
      "metadata": {
        "id": "view-in-github",
        "colab_type": "text"
      },
      "source": [
        "<a href=\"https://colab.research.google.com/github/Mychoyce/Gomycode-Checkpoints/blob/main/PJT_Mood_Tunes_Personalized_Music_Recommendations.ipynb\" target=\"_parent\"><img src=\"https://colab.research.google.com/assets/colab-badge.svg\" alt=\"Open In Colab\"/></a>"
      ]
    },
    {
      "cell_type": "markdown",
      "source": [
        "Project Title: MoodTunes - Personalized Music Recommendations"
      ],
      "metadata": {
        "id": "CUxdAKlkoBw1"
      }
    },
    {
      "cell_type": "markdown",
      "source": [
        "Description:\n",
        "MoodTunes is a user-friendly music recommendation system designed to simplify the process of discovering new music that resonates with each user's preferences and current mood. By analyzing users' listening history and mood indicators, MoodTunes generates personalized music recommendations tailored to individual tastes and emotional states. The platform aims to enhance the music listening experience by providing users with relevant and enjoyable music suggestions."
      ],
      "metadata": {
        "id": "WQ9GfSINoG_S"
      }
    },
    {
      "cell_type": "markdown",
      "source": [
        "Features:\n",
        "\n",
        "(1)Mood-Based Recommendations: MoodTunes utilizes mood analysis techniques to recommend music that aligns with the user's current emotional state. Whether users are feeling happy, sad, energetic, or relaxed, MoodTunes suggests tracks and playlists that match their mood, creating a personalized listening experience.\n",
        "\n",
        "(2)Simple Interface: The platform features a user-friendly interface that makes it easy for users to navigate and discover new music. With intuitive controls and minimalistic design, MoodTunes provides a seamless music discovery experience for users of all levels of technical proficiency.\n",
        "\n",
        "(3)Genre Preferences: MoodTunes allows users to specify their favorite genres and artists to further personalize their music recommendations. By understanding users' musical preferences, the system ensures that recommendations are relevant and enjoyable.\n",
        "\n",
        "(4)Customizable Playlists: Users can create custom playlists based on specific themes, moods, or occasions using MoodTunes. The platform suggests tracks that complement each other, helping users create cohesive and tailored playlists for various listening scenarios.\n",
        "\n",
        "(5)Integration with Streaming Platforms: MoodTunes seamlessly integrates with popular music streaming services like Spotify, Apple Music, and YouTube Music, allowing users to access their favorite tracks and playlists within the MoodTunes interface. This integration ensures a seamless music listening experience across different platforms."
      ],
      "metadata": {
        "id": "fFCU4h6boPZS"
      }
    },
    {
      "cell_type": "markdown",
      "source": [
        "Problem Statement:\n",
        "The abundance of music available across various streaming platforms can be overwhelming for users, making it difficult to discover new music that aligns with their preferences and mood. Traditional recommendation systems often rely on generic algorithms that may not accurately capture users' individual tastes and emotional states, resulting in irrelevant or unappealing music suggestions.\n",
        "\n",
        "MoodTunes addresses this problem by offering a simple and personalized music recommendation solution that analyzes users' listening habits and mood indicators to provide relevant and enjoyable music recommendations. By tailoring recommendations to each user's preferences and emotional states, MoodTunes aims to simplify the music discovery process and enhance the overall listening experience."
      ],
      "metadata": {
        "id": "IGkI_CR8owDU"
      }
    },
    {
      "cell_type": "code",
      "source": [
        "# Install required libraries\n",
        "!pip install pandas scikit-learn spotipy"
      ],
      "metadata": {
        "colab": {
          "base_uri": "https://localhost:8080/"
        },
        "collapsed": true,
        "id": "sk8w0yzlpPOo",
        "outputId": "d71aa828-d428-4134-a4d4-3bc8eaeef7af"
      },
      "execution_count": 1,
      "outputs": [
        {
          "output_type": "stream",
          "name": "stdout",
          "text": [
            "Requirement already satisfied: pandas in /usr/local/lib/python3.10/dist-packages (2.0.3)\n",
            "Requirement already satisfied: scikit-learn in /usr/local/lib/python3.10/dist-packages (1.2.2)\n",
            "Collecting spotipy\n",
            "  Downloading spotipy-2.23.0-py3-none-any.whl (29 kB)\n",
            "Requirement already satisfied: python-dateutil>=2.8.2 in /usr/local/lib/python3.10/dist-packages (from pandas) (2.8.2)\n",
            "Requirement already satisfied: pytz>=2020.1 in /usr/local/lib/python3.10/dist-packages (from pandas) (2023.4)\n",
            "Requirement already satisfied: tzdata>=2022.1 in /usr/local/lib/python3.10/dist-packages (from pandas) (2024.1)\n",
            "Requirement already satisfied: numpy>=1.21.0 in /usr/local/lib/python3.10/dist-packages (from pandas) (1.25.2)\n",
            "Requirement already satisfied: scipy>=1.3.2 in /usr/local/lib/python3.10/dist-packages (from scikit-learn) (1.11.4)\n",
            "Requirement already satisfied: joblib>=1.1.1 in /usr/local/lib/python3.10/dist-packages (from scikit-learn) (1.4.2)\n",
            "Requirement already satisfied: threadpoolctl>=2.0.0 in /usr/local/lib/python3.10/dist-packages (from scikit-learn) (3.5.0)\n",
            "Collecting redis>=3.5.3 (from spotipy)\n",
            "  Downloading redis-5.0.4-py3-none-any.whl (251 kB)\n",
            "\u001b[2K     \u001b[90m━━━━━━━━━━━━━━━━━━━━━━━━━━━━━━━━━━━━━━━━\u001b[0m \u001b[32m252.0/252.0 kB\u001b[0m \u001b[31m8.7 MB/s\u001b[0m eta \u001b[36m0:00:00\u001b[0m\n",
            "\u001b[?25hRequirement already satisfied: requests>=2.25.0 in /usr/local/lib/python3.10/dist-packages (from spotipy) (2.31.0)\n",
            "Requirement already satisfied: six>=1.15.0 in /usr/local/lib/python3.10/dist-packages (from spotipy) (1.16.0)\n",
            "Requirement already satisfied: urllib3>=1.26.0 in /usr/local/lib/python3.10/dist-packages (from spotipy) (2.0.7)\n",
            "Requirement already satisfied: async-timeout>=4.0.3 in /usr/local/lib/python3.10/dist-packages (from redis>=3.5.3->spotipy) (4.0.3)\n",
            "Requirement already satisfied: charset-normalizer<4,>=2 in /usr/local/lib/python3.10/dist-packages (from requests>=2.25.0->spotipy) (3.3.2)\n",
            "Requirement already satisfied: idna<4,>=2.5 in /usr/local/lib/python3.10/dist-packages (from requests>=2.25.0->spotipy) (3.7)\n",
            "Requirement already satisfied: certifi>=2017.4.17 in /usr/local/lib/python3.10/dist-packages (from requests>=2.25.0->spotipy) (2024.2.2)\n",
            "Installing collected packages: redis, spotipy\n",
            "Successfully installed redis-5.0.4 spotipy-2.23.0\n"
          ]
        }
      ]
    }
  ]
}