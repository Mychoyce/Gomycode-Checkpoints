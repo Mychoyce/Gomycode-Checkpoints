{
  "nbformat": 4,
  "nbformat_minor": 0,
  "metadata": {
    "colab": {
      "provenance": [],
      "authorship_tag": "ABX9TyN4/PgoPlc831hQEpgiu9a9",
      "include_colab_link": true
    },
    "kernelspec": {
      "name": "python3",
      "display_name": "Python 3"
    },
    "language_info": {
      "name": "python"
    }
  },
  "cells": [
    {
      "cell_type": "markdown",
      "metadata": {
        "id": "view-in-github",
        "colab_type": "text"
      },
      "source": [
        "<a href=\"https://colab.research.google.com/github/Mychoyce/Gomycode-Checkpoints/blob/main/Unsupervised_Learning_Clustering_.ipynb\" target=\"_parent\"><img src=\"https://colab.research.google.com/assets/colab-badge.svg\" alt=\"Open In Colab\"/></a>"
      ]
    },
    {
      "cell_type": "markdown",
      "source": [
        "In this checkpoint, we are going to work on the 'Credit Card Dataset for Clustering' dataset provided by Kaggle.\n",
        "\n",
        "Dataset description : This dataset was derived and simplified for learning purposes. It includes usage behaviour of about 9000 active credit card holders during 6 months period. This case requires to develop a customer segmentation to define marketing strategy.\n",
        "\n",
        "➡️ Dataset link\n",
        "\n",
        "https://i.imgur.com/gAT5gVg.jpg\n",
        "\n",
        "Columns explanation :\n",
        "\n",
        "CUST_ID: Identification of Credit Card holder (Categorical)\n",
        "BALANCE_FREQUENCY: How frequently the Balance is updated, score between 0 and 1 (1 = frequently updated, 0 = not frequently updated)\n",
        "PURCHASES: Amount of purchases made from account\n",
        "CASH_ADVANCE: Cash in advance given by the user\n",
        "CREDIT_LIMIT: Limit of Credit Card for user\n",
        "PAYMENTS: Amount of Payment done by user\n",
        "\n",
        "Follow These Steps\n",
        "Import you data and perform basic data exploration phase\n",
        "Perform the necessary data preparation steps ( Corrupted and missing values handling, data encoding, outliers handling ... )\n",
        "Perform hierarchical clustering to identify the inherent groupings within your data. Then, plot the clusters. (use only 2 features. For example, try to cluster the customer base with respect to 'PURCHASES' and 'credit limit')\n",
        "Perform partitional clustering using the K-means algorithm. Then, plot the clusters\n",
        "Find the best k value and plot the clusters again.\n",
        "Interpret the results"
      ],
      "metadata": {
        "id": "lbDzpZ6OnuIQ"
      }
    },
    {
      "cell_type": "code",
      "source": [
        "import pandas as pd\n",
        "\n",
        "# Load the dataset\n",
        "url =\"/content/Credit_card_dataset.csv\"\n",
        "df = pd.read_csv(\"/content/Credit_card_dataset.csv\")\n",
        "df"
      ],
      "metadata": {
        "id": "Qm8BS9fRoUVZ"
      },
      "execution_count": null,
      "outputs": []
    },
    {
      "cell_type": "code",
      "source": [
        "# Display basic information about the dataset\n",
        "print(df.info())"
      ],
      "metadata": {
        "id": "rM7Nngi3o48r"
      },
      "execution_count": null,
      "outputs": []
    },
    {
      "cell_type": "code",
      "source": [
        "# Display summary statistics\n",
        "print(df.describe())"
      ],
      "metadata": {
        "id": "c1pZXaEqpJIH"
      },
      "execution_count": null,
      "outputs": []
    },
    {
      "cell_type": "code",
      "source": [
        "# Check for missing values\n",
        "print(df.isnull().sum())"
      ],
      "metadata": {
        "id": "AGFlZmJjpQjn"
      },
      "execution_count": null,
      "outputs": []
    },
    {
      "cell_type": "markdown",
      "source": [
        "### Step 2: Data Preparation"
      ],
      "metadata": {
        "id": "Hxn8UKtipeLb"
      }
    },
    {
      "cell_type": "code",
      "source": [
        "# Check for duplicate rows and remove if any\n",
        "df = df.drop_duplicates()"
      ],
      "metadata": {
        "id": "hSndYJ2qqu-w"
      },
      "execution_count": 17,
      "outputs": []
    },
    {
      "cell_type": "code",
      "source": [
        "df.duplicated().sum()"
      ],
      "metadata": {
        "id": "ecK0qtHDrbbx"
      },
      "execution_count": null,
      "outputs": []
    },
    {
      "cell_type": "code",
      "source": [
        "# Handle outliers\n",
        "# winsorize the outliers in 'PURCHASES' and 'CREDIT_LIMIT'\n",
        "from scipy.stats.mstats import winsorize\n",
        "df['PURCHASES'] = winsorize(df['PURCHASES'], limits=[0.05, 0.05])\n",
        "df['CREDIT_LIMIT'] = winsorize(df['CREDIT_LIMIT'], limits=[0.05, 0.05])\n",
        "df\n"
      ],
      "metadata": {
        "id": "W3tf6jpCtWKu"
      },
      "execution_count": null,
      "outputs": []
    },
    {
      "cell_type": "code",
      "source": [
        "!pip install chardet"
      ],
      "metadata": {
        "colab": {
          "base_uri": "https://localhost:8080/"
        },
        "id": "wMLTc_fFuFwe",
        "outputId": "221ad6c6-7a82-4888-9864-bf8eef059d63"
      },
      "execution_count": 21,
      "outputs": [
        {
          "output_type": "stream",
          "name": "stdout",
          "text": [
            "Requirement already satisfied: chardet in /usr/local/lib/python3.10/dist-packages (5.2.0)\n"
          ]
        }
      ]
    },
    {
      "cell_type": "code",
      "source": [
        "import chardet\n",
        "# Specify the file path\n",
        "file_path = '/content/Credit_card_dataset.csv'\n"
      ],
      "metadata": {
        "id": "ITGngE1nvyWY"
      },
      "execution_count": 23,
      "outputs": []
    },
    {
      "cell_type": "code",
      "source": [
        "# Open the file in binary mode and read a portion of it for analysis\n",
        "with open(file_path, 'rb') as f:\n",
        "    result = chardet.detect(f.read())"
      ],
      "metadata": {
        "id": "q0MwLyXwwN5Q"
      },
      "execution_count": 24,
      "outputs": []
    },
    {
      "cell_type": "code",
      "source": [
        "# The detected encoding will be in result['encoding']\n",
        "print(f\"The detected encoding is: {result['encoding']}\")"
      ],
      "metadata": {
        "id": "Scyb4QepwZJJ"
      },
      "execution_count": null,
      "outputs": []
    },
    {
      "cell_type": "markdown",
      "source": [
        " Step 3: Hierarchical Clustering"
      ],
      "metadata": {
        "id": "xMudzpR9w9SS"
      }
    },
    {
      "cell_type": "code",
      "source": [
        "from scipy.cluster.hierarchy import dendrogram, linkage\n",
        "import matplotlib.pyplot as plt\n"
      ],
      "metadata": {
        "id": "2E4QE2OFxDV0"
      },
      "execution_count": 27,
      "outputs": []
    },
    {
      "cell_type": "code",
      "source": [
        "# Choose features for clustering\n",
        "features = ['PURCHASES', 'CREDIT_LIMIT']\n",
        "X = df[features]"
      ],
      "metadata": {
        "id": "9i2COVJD2Fxy"
      },
      "execution_count": 28,
      "outputs": []
    },
    {
      "cell_type": "code",
      "source": [
        "# Perform hierarchical clustering\n",
        "linkage_matrix = linkage(X, method='ward')"
      ],
      "metadata": {
        "id": "brkm81iW2JgA"
      },
      "execution_count": 29,
      "outputs": []
    },
    {
      "cell_type": "code",
      "source": [
        "# Plot dendrogram\n",
        "plt.figure(figsize=(12, 6))\n",
        "dendrogram(linkage_matrix)\n",
        "plt.title('Hierarchical Clustering Dendrogram')\n",
        "plt.xlabel('Samples')\n",
        "plt.ylabel('Distance')\n",
        "plt.show()"
      ],
      "metadata": {
        "id": "2_hIVdG620FO"
      },
      "execution_count": null,
      "outputs": []
    },
    {
      "cell_type": "markdown",
      "source": [
        " Step 4: Partitional Clustering (K-means)"
      ],
      "metadata": {
        "id": "4XJAvMNF5DTo"
      }
    },
    {
      "cell_type": "code",
      "source": [
        "from sklearn.cluster import KMeans\n",
        "import seaborn as sns"
      ],
      "metadata": {
        "id": "Pfz8wFNp5Guq"
      },
      "execution_count": 31,
      "outputs": []
    },
    {
      "cell_type": "code",
      "source": [
        "# Choose the number of clusters (k)\n",
        "k = 3"
      ],
      "metadata": {
        "id": "rmTnCAqW5Ogy"
      },
      "execution_count": 32,
      "outputs": []
    },
    {
      "cell_type": "code",
      "source": [
        "# Perform K-means clustering\n",
        "kmeans = KMeans(n_clusters=k, random_state=42)\n",
        "df['Cluster'] = kmeans.fit_predict(X)"
      ],
      "metadata": {
        "id": "mC3rJhzz697E"
      },
      "execution_count": null,
      "outputs": []
    },
    {
      "cell_type": "code",
      "source": [
        "# Plot the clusters\n",
        "sns.scatterplot(x='PURCHASES', y='CREDIT_LIMIT', hue='Cluster', data=df, palette='viridis')\n",
        "plt.title('K-means Clustering')\n",
        "plt.show()"
      ],
      "metadata": {
        "id": "eRMhImXg8Lft"
      },
      "execution_count": null,
      "outputs": []
    },
    {
      "cell_type": "markdown",
      "source": [
        " Step 5: Find the Best K-value and Plot Clusters"
      ],
      "metadata": {
        "id": "-ydZD8_L80Yv"
      }
    },
    {
      "cell_type": "code",
      "source": [
        "from sklearn.metrics import silhouette_score\n",
        "import numpy as np"
      ],
      "metadata": {
        "id": "bHELVDOZ87tn"
      },
      "execution_count": 35,
      "outputs": []
    },
    {
      "cell_type": "code",
      "source": [
        "# Find the best k using silhouette score\n",
        "silhouette_scores = []\n",
        "for k in range(2, 11):\n",
        "    kmeans = KMeans(n_clusters=k, random_state=42)\n",
        "    cluster_labels = kmeans.fit_predict(X)\n",
        "    silhouette_scores.append(silhouette_score(X, cluster_labels))\n"
      ],
      "metadata": {
        "id": "niB2Cv559LR_"
      },
      "execution_count": null,
      "outputs": []
    },
    {
      "cell_type": "code",
      "source": [
        "# Plot the silhouette scores\n",
        "plt.plot(range(2, 11), silhouette_scores, marker='o')\n",
        "plt.xlabel('Number of Clusters (k)')\n",
        "plt.ylabel('Silhouette Score')\n",
        "plt.title('Silhouette Score for Different Values of k')\n",
        "plt.show()"
      ],
      "metadata": {
        "id": "yAV57Hst9mYv"
      },
      "execution_count": null,
      "outputs": []
    },
    {
      "cell_type": "code",
      "source": [
        "# Choose the best k and re-run K-means clustering\n",
        "best_k = np.argmax(silhouette_scores) + 2  # +2 because range starts from 2\n",
        "kmeans_best = KMeans(n_clusters=best_k, random_state=42)\n",
        "df['Cluster'] = kmeans_best.fit_predict(X)"
      ],
      "metadata": {
        "id": "pIDsvKsP9066"
      },
      "execution_count": null,
      "outputs": []
    },
    {
      "cell_type": "code",
      "source": [
        "# Plot the clusters with the best k\n",
        "sns.scatterplot(x='PURCHASES', y='CREDIT_LIMIT', hue='Cluster', data=df, palette='viridis')\n",
        "plt.title(f'K-means Clustering (k={best_k})')\n",
        "plt.show()"
      ],
      "metadata": {
        "id": "R3EUkzEY-Dbo"
      },
      "execution_count": null,
      "outputs": []
    },
    {
      "cell_type": "markdown",
      "source": [
        " Step 6: Interpret the Results"
      ],
      "metadata": {
        "id": "7JHwgdAp-f3i"
      }
    },
    {
      "cell_type": "code",
      "source": [
        "high-spending customers with a high credit limit in one cluster"
      ],
      "metadata": {
        "id": "KqcKAEg8-q8k"
      },
      "execution_count": 42,
      "outputs": []
    }
  ]
}