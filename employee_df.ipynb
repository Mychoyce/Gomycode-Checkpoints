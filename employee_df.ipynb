{
  "nbformat": 4,
  "nbformat_minor": 0,
  "metadata": {
    "colab": {
      "provenance": [],
      "authorship_tag": "ABX9TyMUBuF5xJipV173Y3U7X8Dv",
      "include_colab_link": true
    },
    "kernelspec": {
      "name": "python3",
      "display_name": "Python 3"
    },
    "language_info": {
      "name": "python"
    }
  },
  "cells": [
    {
      "cell_type": "markdown",
      "metadata": {
        "id": "view-in-github",
        "colab_type": "text"
      },
      "source": [
        "<a href=\"https://colab.research.google.com/github/Mychoyce/Gomycode-Checkpoints/blob/main/employee_df.ipynb\" target=\"_parent\"><img src=\"https://colab.research.google.com/assets/colab-badge.svg\" alt=\"Open In Colab\"/></a>"
      ]
    },
    {
      "cell_type": "code",
      "execution_count": null,
      "metadata": {
        "id": "X8v7DG7-5x8c"
      },
      "outputs": [],
      "source": []
    },
    {
      "cell_type": "markdown",
      "source": [
        "Instructions\n",
        "\n",
        "Create a dataframe called \"employee_df\" with the following data:\n",
        "\n",
        "import pandas as pd\n",
        "\n",
        "data = {'Name': ['John', 'Mary', 'Bob', 'Sarah', 'Tom', 'Lisa'], 'Department': ['IT', 'Marketing', 'Sales', 'IT', 'Finance', 'Marketing'], 'Age': [30, 40, 25, 35, 45, 28], 'Gender': ['Male', 'Female', 'Male', 'Female', 'Male', 'Female'], 'Salary': [50000, 60000, 45000, 55000, 70000, 55000], 'Experience': [3, 7, 2, 5, 10, 4]}\n",
        "\n",
        "employee_df= pd.DataFrame(data)\n",
        "Use the iloc method to select the first 3 rows of the dataframe.\n",
        "Use the loc method to select all rows where the Department is \"Marketing\".\n",
        "Use the iloc method to select the Age and Gender columns for the first 4 rows of the dataframe.\n",
        "Use the loc method to select the Salary and Experience columns for all rows where the Gender is \"Male\".\n",
        "Note:\n",
        "iloc is used for selection by index location\n",
        "loc is used for selection by label"
      ],
      "metadata": {
        "id": "qNZHskHS6JAI"
      }
    },
    {
      "cell_type": "code",
      "source": [
        "import pandas as pd\n",
        "\n",
        "data = {'Name': ['John', 'Mary', 'Bob', 'Sarah', 'Tom', 'Lisa'],\n",
        "        'Department': ['IT', 'Marketing', 'Sales', 'IT', 'Finance', 'Marketing'],\n",
        "        'Age': [30, 40, 25, 35, 45, 28],\n",
        "        'Gender': ['Male', 'Female', 'Male', 'Female', 'Male', 'Female'],\n",
        "        'Salary': [50000, 60000, 45000, 55000, 70000, 55000],\n",
        "        'Experience': [3, 7, 2, 5, 10, 4]}\n",
        "\n",
        "employee_df = pd.DataFrame(data)\n",
        "\n",
        "# Select the first 3 rows using iloc\n",
        "first_3_rows = employee_df.iloc[:3]\n",
        "\n",
        "# Select all rows where the Department is \"Marketing\" using loc\n",
        "marketing_rows = employee_df.loc[employee_df['Department'] == 'Marketing']\n",
        "\n",
        "# Select the Age and Gender columns for the first 4 rows using iloc\n",
        "age_gender_first_4_rows = employee_df.iloc[:4, [2, 3]]\n",
        "\n",
        "# Select the Salary and Experience columns for all rows where the Gender is \"Male\" using loc\n",
        "salary_experience_male = employee_df.loc[employee_df['Gender'] == 'Male', ['Salary','Experience']]"
      ],
      "metadata": {
        "id": "vJ-yvqBH6300"
      },
      "execution_count": 3,
      "outputs": []
    }
  ]
}